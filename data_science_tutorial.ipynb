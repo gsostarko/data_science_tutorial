{
 "cells":[
  {
   "cell_type":"markdown",
   "source":[
    "# TOC\n",
    "\n",
    "[1. What is Data Analysis](attachment:.\/#1.-What-is-Data-Analysis) <br\/>\n",
    "&ensp;&ensp;[1.1. Why Python for Data Analysis](attachment:.\/#1.1.-Why-Python-for-Data-Analysis) <br\/>\n",
    "&ensp;&ensp;[1.2. The Data Analysis Process](attachment:.\/#1.2.-The-Data-Analysis-Process) <br\/>\n",
    "&ensp;&ensp;[1.3. Python & PyData Ecosystem](attachment:.\/#1.3.-Python-&-PyData-Ecosystem) <br\/>\n",
    "[2. Real example Data Analysis with Python](attachment:.\/#2.-Real-example-Data-Analysis-with-Python)"
   ],
   "attachments":{
    
   },
   "metadata":{
    "datalore":{
     "type":"MD",
     "hide_input_from_viewers":false,
     "hide_output_from_viewers":false
    }
   }
  },
  {
   "cell_type":"markdown",
   "source":[
    "# 1. What is Data Analysis\n",
    "\n",
    "Data analysis is a process of inspecting, cleansing, transforming, and modelling data with the goal of discovering useful information, informing conclusions, and supporting decision-making. Data analysis has multiple facets and approaches, encompassing diverse techniques under a variety of names, and is used in different business, science, and social science domains. In today's business world, data analysis plays a role in making decisions more scientific and helping businesses operate more effectively.\n",
    "\n",
    "Analysis, refers to dividing a whole into its separate components for individual examination. Data analysis, is a process for obtaining raw data, and subsequently converting it into information useful for decision-making by users. Data, is collected and analyzed to answer questions, test hypotheses, or disprove theories.\n",
    "\n",
    "Source: [<u><b>Wikipedia<\/u><\/b>](https:\/\/en.wikipedia.org\/wiki\/Data_analysis)"
   ],
   "attachments":{
    
   },
   "metadata":{
    "datalore":{
     "type":"MD",
     "hide_input_from_viewers":false,
     "hide_output_from_viewers":false
    }
   }
  },
  {
   "cell_type":"markdown",
   "source":[
    "## 1.1. Why Python for Data Analysis\n",
    "\n",
    "* very simple and intuitive to learn\n",
    "* \"correnct\" language\n",
    "* powerful libraries (not just for Data Analysis)\n",
    "* free and open source\n",
    "* amazing community, docs and conferences"
   ],
   "attachments":{
    
   },
   "metadata":{
    "datalore":{
     "type":"MD",
     "hide_input_from_viewers":false,
     "hide_output_from_viewers":false
    }
   }
  },
  {
   "cell_type":"markdown",
   "source":[
    "## 1.2. The Data Analysis Process\n",
    "\n",
    "<img src=\"img\/data_analysis_process.PNG\" \/>\n",
    "\n",
    "### Data requirements\n",
    "\n",
    "The data is necessary as inputs to the analysis, which is specified based upon the requirements of those directing the analysis (or customers, who will use the finished product of the analysis). The general type of entity upon which the data will be collected is referred to as an experimental unit (e.g., a person or population of people). Specific variables regarding a population (e.g., age and income) may be specified and obtained. Data may be numerical or categorical (i.e., a text label for numbers).\n",
    "\n",
    "\n",
    "### Data Collection\n",
    "\n",
    "Data is collected from a variety of sources. The requirements may be communicated by analysts to custodians of the data; such as, Information Technology personnel within an organization. The data may also be collected from sensors in the environment, including traffic cameras, satellites, recording devices, etc. It may also be obtained through interviews, downloads from online sources, or reading documentation.\n",
    "\n",
    "\n",
    "### Data processing\n",
    "\n",
    "Data, when initially obtained, must be processed or organized for analysis. For instance, these may involve placing data into rows and columns in a table format (known as structured data) for further analysis, often through the use of spreadsheet or statistical software.\n",
    "\n",
    "\n",
    "### Data cleaning\n",
    "\n",
    "Once processed and organized, the data may be incomplete, contain duplicates, or contain errors. The need for data cleaning will arise from problems in the way that the datum are entered and stored. Data cleaning is the process of preventing and correcting these errors. Common tasks include record matching, identifying inaccuracy of data, overall quality of existing data, deduplication, and column segmentation. Such data problems can also be identified through a variety of analytical techniques. For example; with financial information, the totals for particular variables may be compared against separately published numbers that are believed to be reliable. Unusual amounts, above or below predetermined thresholds, may also be reviewed. There are several types of data cleaning, that are dependent upon the type of data in the set; this could be phone numbers, email addresses, employers, or other values. Quantitative data methods for outlier detection, can be used to get rid of data that appears to have a higher likelihood of being input incorrectly. Textual data spell checkers can be used to lessen the amount of mis-typed words. However, it is harder to tell if the words themselves are correct.\n",
    "\n",
    "\n",
    "### Exploratory data analysis\n",
    "\n",
    "Once the datasets are cleaned, they can then be analyzed. Analysts may apply a variety of techniques, referred to as exploratory data analysis, to begin understanding the messages contained within the obtained data. The process of data exploration may result in additional data cleaning or additional requests for data; thus, the initialization of the iterative phases mentioned in the lead paragraph of this section. Descriptive statistics, such as, the average or median, can be generated to aid in understanding the data. Data visualization is also a technique used, in which the analyst is able to examine the data in a graphical format in order to obtain additional insights, regarding the messages within the data.\n",
    "\n",
    "\n",
    "### Modelling and algorithms\n",
    "\n",
    "Mathematical formulas or models (known as algorithms), may be applied to the data in order to identify relationships among the variables; for example, using correlation or causation. In general terms, models may be developed to evaluate a specific variable based on other variable(s) contained within the dataset, with some residual error depending on the implemented model's accuracy (e.g., $Data = Model + Error$).\n",
    "\n",
    "Inferential statistics, includes utilizing techniques that measure the relationships between particular variables. For example, regression analysis may be used to model whether a change in advertising (independent variable $X$), provides an explanation for the variation in sales (dependent variable $Y$). In mathematical terms, $Y$ (sales) is a function of X (advertising). It may be described as ($Y = aX + b + error$), where the model is designed such that ($a$) and ($b$) minimize the error when the model predicts $Y$ for a given range of values of $X$. Analysts may also attempt to build models that are descriptive of the data, in an aim to simplify analysis and communicate results.\n",
    "\n",
    "\n",
    "### Data product\n",
    "\n",
    "A data product is a computer application that takes data inputs and generates outputs, feeding them back into the environment. It may be based on a model or algorithm. For instance, an application that analyzes data about customer purchase history, and uses the results to recommend other purchases the customer might enjoy.\n",
    "\n",
    "\n",
    "### Communication\n",
    "\n",
    "Once data is analyzed, it may be reported in many formats to the users of the analysis to support their requirements. The users may have feedback, which results in additional analysis. As such, much of the analytical cycle is iterative.\n",
    "\n",
    "When determining how to communicate the results, the analyst may consider implementing a variety of data visualization techniques to help communicate the message more clearly and efficiently to the audience. Data visualization uses information displays (graphics such as, tables and charts) to help communicate key messages contained in the data. Tables are a valuable tool by enabling the ability of a user to query and focus on specific numbers; while charts (e.g., bar charts or line charts), may help explain the quantitative messages contained in the data.\n",
    "\n",
    "\n",
    "Source: [<u><b>Wikipedia<\/u><\/b>](https:\/\/en.wikipedia.org\/wiki\/Data_analysis)\n"
   ],
   "attachments":{
    
   },
   "metadata":{
    "datalore":{
     "type":"MD",
     "hide_input_from_viewers":false,
     "hide_output_from_viewers":false
    }
   }
  },
  {
   "cell_type":"markdown",
   "source":[
    "### Quantitative messages\n",
    "\n",
    "Stephen Few described eight types of quantitative messages that users may attempt to understand or communicate from a set of data and the associated graphs used to help communicate the message.\n",
    "Customers specifying requirements and analysts performing the data analysis may consider these messages during the course of the process.          \n",
    "\n",
    "1. Time-series: A single variable is captured over a period of time, such as the unemployment rate over a 10-year period. A line chart may be used to demonstrate the trend.\n",
    "\n",
    "2. Ranking: Categorical subdivisions are ranked in ascending or descending order, such as a ranking of sales performance (the measure) by salespersons (the category, with each salesperson a categorical subdivision) during a single period. A bar chart may be used to show the comparison across the salespersons.\n",
    "\n",
    "3. Part-to-whole: Categorical subdivisions are measured as a ratio to the whole (i.e., a percentage out of 100%). A pie chart or bar chart can show the comparison of ratios, such as the market share represented by competitors in a market.\n",
    "\n",
    "4. Deviation: Categorical subdivisions are compared against a reference, such as a comparison of actual vs. budget expenses for several departments of a business for a given time period. A bar chart can show the comparison of the actual versus the reference amount.\n",
    "   \n",
    "5. Frequency distribution: Shows the number of observations of a particular variable for a given interval, such as the number of years in which the stock market return is between intervals such as 0–10%, 11–20%, etc. A histogram, a type of bar chart, may be used for this analysis.\n",
    "   \n",
    "6. Correlation: Comparison between observations represented by two variables (X,Y) to determine if they tend to move in the same or opposite directions. For example, plotting unemployment (X) and inflation (Y) for a sample of months. A scatter plot is typically used for this message.\n",
    "   \n",
    "7. Nominal comparison: Comparing categorical subdivisions in no particular order, such as the sales volume by product code. A bar chart may be used for this comparison.\n",
    "   \n",
    "8. Geographic or geospatial: Comparison of a variable across a map or layout, such as the unemployment rate by state or the number of persons on the various floors of a building. A cartogram is a typical graphic used.\n",
    "\n",
    "\n",
    "Source: [<u><b>Wikipedia<\/u><\/b>](https:\/\/en.wikipedia.org\/wiki\/Data_analysis)"
   ],
   "attachments":{
    
   },
   "metadata":{
    "datalore":{
     "type":"MD",
     "hide_input_from_viewers":false,
     "hide_output_from_viewers":false
    }
   }
  },
  {
   "cell_type":"markdown",
   "source":[
    "## 1.3. Python & PyData Ecosystem\n",
    "\n",
    "### Python Ecosystem\n",
    "\n",
    "The libraries we use are:\n",
    "        \n",
    "* [<u><b>pandas<\/b><\/u>](https:\/\/pandas.pydata.org\/): The cornerstone of our Data Analysis job with Python\n",
    "* [<u><b>matplotlib<\/b><\/u>](https:\/\/matplotlib.org\/): The foundational library for visualizations. Other libraries we'll use will be built on top of matplotlib\n",
    "* [<u><b>numpy<\/b><\/u>](https:\/\/numpy.org\/): The numeric library that serves as the foundation of all calculations in Python\n",
    "* [<u><b>seaborn<\/b><\/u>](https:\/\/seaborn.pydata.org\/): A statistical visualization tool built on top of matplotlib\n",
    "* [<u><b>statsmodels<\/b><\/u>](https:\/\/www.statsmodels.org\/stable\/index.html): A library with many advanced statistical functions\n",
    "* [<u><b>scipy<\/b><\/u>](https:\/\/scipy.org\/): Advanced scientific computing, including functions for optimization, linear algebra, image processing and much mode\n",
    "* [<u><b>scikit-learn<\/b><\/u>](https:\/\/scikit-learn.org\/stable\/): The most popular machine learning library for Python (net deep learning)"
   ],
   "attachments":{
    
   },
   "metadata":{
    "datalore":{
     "type":"MD",
     "hide_input_from_viewers":false,
     "hide_output_from_viewers":false
    }
   }
  },
  {
   "cell_type":"markdown",
   "source":[
    "Data Analysis with Python - Full Course for Beginners (Numpy, Pandas, Matplotlib, Seaborn)\n",
    "https:\/\/www.youtube.com\/watch?v=r-uOLxNrNk8"
   ],
   "attachments":{
    
   },
   "metadata":{
    "datalore":{
     "type":"MD",
     "hide_input_from_viewers":false,
     "hide_output_from_viewers":false
    }
   }
  }
 ],
 "metadata":{
  "kernelspec":{
   "display_name":"Python",
   "language":"python",
   "name":"python"
  },
  "datalore":{
   "version":1,
   "computation_mode":"JUPYTER",
   "package_manager":"pip",
   "base_environment":"default",
   "packages":[
    
   ]
  }
 },
 "nbformat":4,
 "nbformat_minor":4
}