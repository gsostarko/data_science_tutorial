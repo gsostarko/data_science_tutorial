{
 "cells":[
  {
   "cell_type":"markdown",
   "source":[
    "# TOC\n",
    "\n",
    "[1. What is Data Analysis](#1.-What-is-Data-Analysis) <br\/>\n",
    "&ensp;&ensp;[1.1. Why Python for Data Analysis](#1.1.-Why-Python-for-Data-Analysis) <br\/>\n",
    "&ensp;&ensp;[1.2. The Data Analysis Process](#1.2.-The-Data-Analysis-Process) <br\/>\n",
    "&ensp;&ensp;[1.3. Python & PyData Ecosystem](#1.3.-Python-&-PyData-Ecosystem) <br\/>\n",
    "[2. Real example Data Analysis with Python](#2.-Real-example-Data-Analysis-with-Python)"
   ],
   "attachments":{
    
   },
   "metadata":{
    "datalore":{
     "type":"MD",
     "hide_input_from_viewers":false,
     "hide_output_from_viewers":false
    }
   }
  },
  {
   "cell_type":"markdown",
   "source":[
    "# 1. What is Data Analysis\n",
    "\n",
    "Data Analysis is a process of inspecting, cleansing, transforming an modeling data with the goal of discovering useful information, informing conclusion and supporting decision-making"
   ],
   "attachments":{
    
   },
   "metadata":{
    "datalore":{
     "type":"MD",
     "hide_input_from_viewers":false,
     "hide_output_from_viewers":false
    }
   }
  },
  {
   "cell_type":"markdown",
   "source":[
    "## 1.1. Why Python for Data Analysis\n",
    "\n",
    "* very simple and intuitive to learn\n",
    "* \"correnct\" language\n",
    "* powerful libraries (not just for Data Analysis)\n",
    "* free and open source\n",
    "* amazing community, docs and conferences"
   ],
   "attachments":{
    
   },
   "metadata":{
    "datalore":{
     "type":"MD",
     "hide_input_from_viewers":false,
     "hide_output_from_viewers":false
    }
   }
  },
  {
   "cell_type":"markdown",
   "source":[
    "## 1.2. The Data Analysis Process\n",
    "\n",
    "<img src=\"img\/data_analysis_process.PNG\" \/>"
   ],
   "attachments":{
    
   },
   "metadata":{
    "datalore":{
     "type":"MD",
     "hide_input_from_viewers":false,
     "hide_output_from_viewers":false
    }
   }
  },
  {
   "cell_type":"markdown",
   "source":[
    "## 1.3. Python & PyData Ecosystem\n",
    "\n",
    "### Python Ecosystem\n",
    "\n",
    "The libraries we use are:\n",
    "        \n",
    "* [<u><b>pandas<\/b><\/u>](https:\/\/pandas.pydata.org\/): The cornerstone of our Data Analysis job with Python\n",
    "* [<u><b>matplotlib<\/b><\/u>](https:\/\/matplotlib.org\/): The foundational library for visualizations. Other libraries we'll use will be built on top of matplotlib\n",
    "* [<u><b>numpy<\/b><\/u>](https:\/\/numpy.org\/): The numeric library that serves as the foundation of all calculations in Python\n",
    "* [<u><b>seaborn<\/b><\/u>](https:\/\/seaborn.pydata.org\/): A statistical visualization tool built on top of matplotlib\n",
    "* [<u><b>statsmodels<\/b><\/u>](https:\/\/www.statsmodels.org\/stable\/index.html): A library with many advanced statistical functions\n",
    "* [<u><b>scipy<\/b><\/u>](https:\/\/scipy.org\/): Advanced scientific computing, including functions for optimization, linear algebra, image processing and much mode\n",
    "* [<u><b>scikit-learn<\/b><\/u>](https:\/\/scikit-learn.org\/stable\/): The most popular machine learning library for Python (net deep learning)"
   ],
   "attachments":{
    
   },
   "metadata":{
    "datalore":{
     "type":"MD",
     "hide_input_from_viewers":false,
     "hide_output_from_viewers":false
    }
   }
  },
  {
   "cell_type":"code",
   "source":[
    
   ],
   "execution_count":null,
   "outputs":[
    
   ],
   "metadata":{
    "datalore":{
     "type":"CODE",
     "hide_input_from_viewers":false,
     "hide_output_from_viewers":false
    }
   }
  }
 ],
 "metadata":{
  "kernelspec":{
   "display_name":"Python",
   "language":"python",
   "name":"python"
  },
  "datalore":{
   "version":1,
   "computation_mode":"JUPYTER",
   "package_manager":"pip",
   "base_environment":"default",
   "packages":[
    
   ]
  }
 },
 "nbformat":4,
 "nbformat_minor":4
}
